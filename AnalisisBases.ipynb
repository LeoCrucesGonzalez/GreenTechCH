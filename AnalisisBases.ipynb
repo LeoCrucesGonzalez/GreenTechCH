{
 "cells": [
  {
   "cell_type": "code",
   "execution_count": 2,
   "id": "cb59a8ff",
   "metadata": {},
   "outputs": [],
   "source": [
    "import polars as pl\n",
    "def revisar_base(df: pl.DataFrame, nombre: str, filas_preview: int = 5):\n",
    "    total_filas = df.height\n",
    "    total_columnas = df.width\n",
    "\n",
    "    print(f\"\\n📦 Revisión de: {nombre}\")\n",
    "    print(f\"Total de filas: {total_filas}\")\n",
    "    print(f\"Total de columnas: {total_columnas}\")\n",
    "    print(f\"Tipos de datos:\")\n",
    "    print(df.schema)\n",
    "\n",
    "    # Revisar nulos y NaN por columna\n",
    "    resumen = []\n",
    "    for col in df.columns:\n",
    "        dtype = df.schema[col]\n",
    "        n_null = df.select(pl.col(col).is_null().sum()).item()\n",
    "        n_nan = df.select(pl.col(col).is_nan().sum()).item() if dtype in [pl.Float32, pl.Float64] else 0\n",
    "        total_missing = n_null + n_nan\n",
    "        pct = (total_missing / total_filas) * 100 if total_filas > 0 else 0.0\n",
    "\n",
    "        resumen.append({\n",
    "            \"columna\": col,\n",
    "            \"tipo\": str(dtype),\n",
    "            \"n_null\": n_null,\n",
    "            \"n_nan\": n_nan,\n",
    "            \"total_nulos\": total_missing,\n",
    "            \"pct_nulos\": round(pct, 2)\n",
    "        })\n",
    "\n",
    "    print(\"\\n📊 Resumen de nulos:\")\n",
    "    print(pl.DataFrame(resumen))\n",
    "\n",
    "    # Mostrar algunas filas con patent_id null si existe\n",
    "    if \"patent_id\" in df.columns:\n",
    "        n_nulos_id = df.filter(pl.col(\"patent_id\").is_null()).shape[0]\n",
    "        if n_nulos_id > 0:\n",
    "            print(f\"\\n🔍 Filas con patent_id nulo ({n_nulos_id}):\")\n",
    "            print(df.filter(pl.col(\"patent_id\").is_null()).head(filas_preview))\n"
   ]
  },
  {
   "cell_type": "code",
   "execution_count": 8,
   "id": "cc59f995",
   "metadata": {},
   "outputs": [
    {
     "name": "stdout",
     "output_type": "stream",
     "text": [
      "\n",
      "📦 Revisión de: g_patent\n",
      "Total de filas: 9075421\n",
      "Total de columnas: 8\n",
      "Tipos de datos:\n",
      "Schema([('patent_id', Int64), ('patent_type', String), ('patent_date', String), ('patent_title', String), ('wipo_kind', String), ('num_claims', Int64), ('withdrawn', Int64), ('filename', String)])\n",
      "\n",
      "📊 Resumen de nulos:\n",
      "shape: (8, 6)\n",
      "┌──────────────┬────────┬────────┬───────┬─────────────┬───────────┐\n",
      "│ columna      ┆ tipo   ┆ n_null ┆ n_nan ┆ total_nulos ┆ pct_nulos │\n",
      "│ ---          ┆ ---    ┆ ---    ┆ ---   ┆ ---         ┆ ---       │\n",
      "│ str          ┆ str    ┆ i64    ┆ i64   ┆ i64         ┆ f64       │\n",
      "╞══════════════╪════════╪════════╪═══════╪═════════════╪═══════════╡\n",
      "│ patent_id    ┆ Int64  ┆ 869242 ┆ 0     ┆ 869242      ┆ 9.58      │\n",
      "│ patent_type  ┆ String ┆ 0      ┆ 0     ┆ 0           ┆ 0.0       │\n",
      "│ patent_date  ┆ String ┆ 0      ┆ 0     ┆ 0           ┆ 0.0       │\n",
      "│ patent_title ┆ String ┆ 0      ┆ 0     ┆ 0           ┆ 0.0       │\n",
      "│ wipo_kind    ┆ String ┆ 0      ┆ 0     ┆ 0           ┆ 0.0       │\n",
      "│ num_claims   ┆ Int64  ┆ 0      ┆ 0     ┆ 0           ┆ 0.0       │\n",
      "│ withdrawn    ┆ Int64  ┆ 0      ┆ 0     ┆ 0           ┆ 0.0       │\n",
      "│ filename     ┆ String ┆ 0      ┆ 0     ┆ 0           ┆ 0.0       │\n",
      "└──────────────┴────────┴────────┴───────┴─────────────┴───────────┘\n",
      "\n",
      "🔍 Filas con patent_id nulo (869242):\n",
      "shape: (5, 8)\n",
      "┌───────────┬────────────┬────────────┬────────────┬───────────┬───────────┬───────────┬───────────┐\n",
      "│ patent_id ┆ patent_typ ┆ patent_dat ┆ patent_tit ┆ wipo_kind ┆ num_claim ┆ withdrawn ┆ filename  │\n",
      "│ ---       ┆ e          ┆ e          ┆ le         ┆ ---       ┆ s         ┆ ---       ┆ ---       │\n",
      "│ i64       ┆ ---        ┆ ---        ┆ ---        ┆ str       ┆ ---       ┆ i64       ┆ str       │\n",
      "│           ┆ str        ┆ str        ┆ str        ┆           ┆ i64       ┆           ┆           │\n",
      "╞═══════════╪════════════╪════════════╪════════════╪═══════════╪═══════════╪═══════════╪═══════════╡\n",
      "│ null      ┆ design     ┆ 2023-09-26 ┆ Dispensing ┆ S1        ┆ 1         ┆ 0         ┆ ipg230926 │\n",
      "│           ┆            ┆            ┆ comb       ┆           ┆           ┆           ┆ _r1.xml   │\n",
      "│ null      ┆ design     ┆ 2023-09-26 ┆ Pet        ┆ S1        ┆ 1         ┆ 0         ┆ ipg230926 │\n",
      "│           ┆            ┆            ┆ carrier    ┆           ┆           ┆           ┆ _r1.xml   │\n",
      "│ null      ┆ design     ┆ 2023-09-26 ┆ Bird house ┆ S1        ┆ 1         ┆ 0         ┆ ipg230926 │\n",
      "│           ┆            ┆            ┆            ┆           ┆           ┆           ┆ _r1.xml   │\n",
      "│ null      ┆ design     ┆ 2023-09-26 ┆ Backloadin ┆ S1        ┆ 1         ┆ 0         ┆ ipg230926 │\n",
      "│           ┆            ┆            ┆ g horse    ┆           ┆           ┆           ┆ _r1.xml   │\n",
      "│           ┆            ┆            ┆ feeder     ┆           ┆           ┆           ┆           │\n",
      "│ null      ┆ design     ┆ 2023-09-26 ┆ Feeding    ┆ S1        ┆ 1         ┆ 0         ┆ ipg230926 │\n",
      "│           ┆            ┆            ┆ device     ┆           ┆           ┆           ┆ _r1.xml   │\n",
      "└───────────┴────────────┴────────────┴────────────┴───────────┴───────────┴───────────┴───────────┘\n"
     ]
    }
   ],
   "source": [
    "\n",
    "df_patent_raw = pl.read_csv(\n",
    "    \"g_patent.tsv\",\n",
    "    separator=\"\\t\",\n",
    "    ignore_errors=True)\n",
    "revisar_base(df_patent_raw, \"g_patent\")"
   ]
  },
  {
   "cell_type": "code",
   "execution_count": 9,
   "id": "3c94a657",
   "metadata": {},
   "outputs": [
    {
     "name": "stdout",
     "output_type": "stream",
     "text": [
      "\n",
      "📦 Revisión de: g_patent\n",
      "Total de filas: 9075421\n",
      "Total de columnas: 8\n",
      "Tipos de datos:\n",
      "Schema([('patent_id', String), ('patent_type', String), ('patent_date', String), ('patent_title', String), ('wipo_kind', String), ('num_claims', Int64), ('withdrawn', Int64), ('filename', String)])\n",
      "\n",
      "📊 Resumen de nulos:\n",
      "shape: (8, 6)\n",
      "┌──────────────┬────────┬────────┬───────┬─────────────┬───────────┐\n",
      "│ columna      ┆ tipo   ┆ n_null ┆ n_nan ┆ total_nulos ┆ pct_nulos │\n",
      "│ ---          ┆ ---    ┆ ---    ┆ ---   ┆ ---         ┆ ---       │\n",
      "│ str          ┆ str    ┆ i64    ┆ i64   ┆ i64         ┆ f64       │\n",
      "╞══════════════╪════════╪════════╪═══════╪═════════════╪═══════════╡\n",
      "│ patent_id    ┆ String ┆ 0      ┆ 0     ┆ 0           ┆ 0.0       │\n",
      "│ patent_type  ┆ String ┆ 0      ┆ 0     ┆ 0           ┆ 0.0       │\n",
      "│ patent_date  ┆ String ┆ 0      ┆ 0     ┆ 0           ┆ 0.0       │\n",
      "│ patent_title ┆ String ┆ 0      ┆ 0     ┆ 0           ┆ 0.0       │\n",
      "│ wipo_kind    ┆ String ┆ 0      ┆ 0     ┆ 0           ┆ 0.0       │\n",
      "│ num_claims   ┆ Int64  ┆ 0      ┆ 0     ┆ 0           ┆ 0.0       │\n",
      "│ withdrawn    ┆ Int64  ┆ 0      ┆ 0     ┆ 0           ┆ 0.0       │\n",
      "│ filename     ┆ String ┆ 0      ┆ 0     ┆ 0           ┆ 0.0       │\n",
      "└──────────────┴────────┴────────┴───────┴─────────────┴───────────┘\n"
     ]
    }
   ],
   "source": [
    "# Ejemplo para g_patent.tsv\n",
    "df_patent_raw = pl.read_csv(\n",
    "    \"g_patent.tsv\",\n",
    "    separator=\"\\t\",\n",
    "    ignore_errors=True,\n",
    "    schema_overrides={\"patent_id\": pl.Utf8}\n",
    ")\n",
    "revisar_base(df_patent_raw, \"g_patent\")"
   ]
  },
  {
   "cell_type": "code",
   "execution_count": 10,
   "id": "faf85c8f",
   "metadata": {},
   "outputs": [
    {
     "name": "stdout",
     "output_type": "stream",
     "text": [
      "\n",
      "📦 Revisión de: g_cpc_current\n",
      "Total de filas: 56755723\n",
      "Total de columnas: 7\n",
      "Tipos de datos:\n",
      "Schema([('patent_id', Int64), ('cpc_sequence', Int64), ('cpc_section', String), ('cpc_class', String), ('cpc_subclass', String), ('cpc_group', String), ('cpc_type', String)])\n",
      "\n",
      "📊 Resumen de nulos:\n",
      "shape: (7, 6)\n",
      "┌──────────────┬────────┬────────┬───────┬─────────────┬───────────┐\n",
      "│ columna      ┆ tipo   ┆ n_null ┆ n_nan ┆ total_nulos ┆ pct_nulos │\n",
      "│ ---          ┆ ---    ┆ ---    ┆ ---   ┆ ---         ┆ ---       │\n",
      "│ str          ┆ str    ┆ i64    ┆ i64   ┆ i64         ┆ f64       │\n",
      "╞══════════════╪════════╪════════╪═══════╪═════════════╪═══════════╡\n",
      "│ patent_id    ┆ Int64  ┆ 0      ┆ 0     ┆ 0           ┆ 0.0       │\n",
      "│ cpc_sequence ┆ Int64  ┆ 0      ┆ 0     ┆ 0           ┆ 0.0       │\n",
      "│ cpc_section  ┆ String ┆ 0      ┆ 0     ┆ 0           ┆ 0.0       │\n",
      "│ cpc_class    ┆ String ┆ 0      ┆ 0     ┆ 0           ┆ 0.0       │\n",
      "│ cpc_subclass ┆ String ┆ 0      ┆ 0     ┆ 0           ┆ 0.0       │\n",
      "│ cpc_group    ┆ String ┆ 0      ┆ 0     ┆ 0           ┆ 0.0       │\n",
      "│ cpc_type     ┆ String ┆ 0      ┆ 0     ┆ 0           ┆ 0.0       │\n",
      "└──────────────┴────────┴────────┴───────┴─────────────┴───────────┘\n"
     ]
    }
   ],
   "source": [
    "# Ejemplo para g_cpc_current.tsv\n",
    "df_cpc_raw = pl.read_csv(\"g_cpc_current.tsv\", separator=\"\\t\", ignore_errors=True)\n",
    "revisar_base(df_cpc_raw, \"g_cpc_current\")\n"
   ]
  },
  {
   "cell_type": "code",
   "execution_count": 11,
   "id": "fd5f76c6",
   "metadata": {},
   "outputs": [
    {
     "name": "stdout",
     "output_type": "stream",
     "text": [
      "\n",
      "📦 Revisión de: g_assignee_disambiguated\n",
      "Total de filas: 8385078\n",
      "Total de columnas: 8\n",
      "Tipos de datos:\n",
      "Schema([('patent_id', String), ('assignee_sequence', Int64), ('assignee_id', String), ('disambig_assignee_individual_name_first', String), ('disambig_assignee_individual_name_last', String), ('disambig_assignee_organization', String), ('assignee_type', Int64), ('location_id', String)])\n",
      "\n",
      "📊 Resumen de nulos:\n",
      "shape: (8, 6)\n",
      "┌─────────────────────────────────┬────────┬────────┬───────┬─────────────┬───────────┐\n",
      "│ columna                         ┆ tipo   ┆ n_null ┆ n_nan ┆ total_nulos ┆ pct_nulos │\n",
      "│ ---                             ┆ ---    ┆ ---    ┆ ---   ┆ ---         ┆ ---       │\n",
      "│ str                             ┆ str    ┆ i64    ┆ i64   ┆ i64         ┆ f64       │\n",
      "╞═════════════════════════════════╪════════╪════════╪═══════╪═════════════╪═══════════╡\n",
      "│ patent_id                       ┆ String ┆ 0      ┆ 0     ┆ 0           ┆ 0.0       │\n",
      "│ assignee_sequence               ┆ Int64  ┆ 0      ┆ 0     ┆ 0           ┆ 0.0       │\n",
      "│ assignee_id                     ┆ String ┆ 0      ┆ 0     ┆ 0           ┆ 0.0       │\n",
      "│ disambig_assignee_individual_n… ┆ String ┆ 0      ┆ 0     ┆ 0           ┆ 0.0       │\n",
      "│ disambig_assignee_individual_n… ┆ String ┆ 0      ┆ 0     ┆ 0           ┆ 0.0       │\n",
      "│ disambig_assignee_organization  ┆ String ┆ 0      ┆ 0     ┆ 0           ┆ 0.0       │\n",
      "│ assignee_type                   ┆ Int64  ┆ 25746  ┆ 0     ┆ 25746       ┆ 0.31      │\n",
      "│ location_id                     ┆ String ┆ 0      ┆ 0     ┆ 0           ┆ 0.0       │\n",
      "└─────────────────────────────────┴────────┴────────┴───────┴─────────────┴───────────┘\n"
     ]
    }
   ],
   "source": [
    "# Ejemplo para g_assignee_disambiguated.tsv\n",
    "df_assignee_raw = pl.read_csv(\"g_assignee_disambiguated.tsv\", separator=\"\\t\", ignore_errors=True)\n",
    "revisar_base(df_assignee_raw, \"g_assignee_disambiguated\")"
   ]
  },
  {
   "cell_type": "code",
   "execution_count": 12,
   "id": "e7b1e845",
   "metadata": {},
   "outputs": [
    {
     "name": "stdout",
     "output_type": "stream",
     "text": [
      "\n",
      "📦 Revisión de: g_location_disambiguated\n",
      "Total de filas: 96968\n",
      "Total de columnas: 9\n",
      "Tipos de datos:\n",
      "Schema([('location_id', String), ('disambig_city', String), ('disambig_state', String), ('disambig_country', String), ('latitude', Float64), ('longitude', Float64), ('county', String), ('state_fips', String), ('county_fips', String)])\n",
      "\n",
      "📊 Resumen de nulos:\n",
      "shape: (9, 6)\n",
      "┌──────────────────┬─────────┬────────┬───────┬─────────────┬───────────┐\n",
      "│ columna          ┆ tipo    ┆ n_null ┆ n_nan ┆ total_nulos ┆ pct_nulos │\n",
      "│ ---              ┆ ---     ┆ ---    ┆ ---   ┆ ---         ┆ ---       │\n",
      "│ str              ┆ str     ┆ i64    ┆ i64   ┆ i64         ┆ f64       │\n",
      "╞══════════════════╪═════════╪════════╪═══════╪═════════════╪═══════════╡\n",
      "│ location_id      ┆ String  ┆ 0      ┆ 0     ┆ 0           ┆ 0.0       │\n",
      "│ disambig_city    ┆ String  ┆ 0      ┆ 0     ┆ 0           ┆ 0.0       │\n",
      "│ disambig_state   ┆ String  ┆ 0      ┆ 0     ┆ 0           ┆ 0.0       │\n",
      "│ disambig_country ┆ String  ┆ 0      ┆ 0     ┆ 0           ┆ 0.0       │\n",
      "│ latitude         ┆ Float64 ┆ 0      ┆ 0     ┆ 0           ┆ 0.0       │\n",
      "│ longitude        ┆ Float64 ┆ 0      ┆ 0     ┆ 0           ┆ 0.0       │\n",
      "│ county           ┆ String  ┆ 0      ┆ 0     ┆ 0           ┆ 0.0       │\n",
      "│ state_fips       ┆ String  ┆ 0      ┆ 0     ┆ 0           ┆ 0.0       │\n",
      "│ county_fips      ┆ String  ┆ 0      ┆ 0     ┆ 0           ┆ 0.0       │\n",
      "└──────────────────┴─────────┴────────┴───────┴─────────────┴───────────┘\n"
     ]
    }
   ],
   "source": [
    "df_location_raw = pl.read_csv(\"g_location_disambiguated.tsv\", separator=\"\\t\", ignore_errors=True)\n",
    "revisar_base(df_location_raw, \"g_location_disambiguated\")"
   ]
  }
 ],
 "metadata": {
  "kernelspec": {
   "display_name": "Python 3",
   "language": "python",
   "name": "python3"
  },
  "language_info": {
   "codemirror_mode": {
    "name": "ipython",
    "version": 3
   },
   "file_extension": ".py",
   "mimetype": "text/x-python",
   "name": "python",
   "nbconvert_exporter": "python",
   "pygments_lexer": "ipython3",
   "version": "3.9.13"
  }
 },
 "nbformat": 4,
 "nbformat_minor": 5
}
